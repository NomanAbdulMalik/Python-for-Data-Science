{
 "cells": [
  {
   "cell_type": "markdown",
   "id": "7069a08c",
   "metadata": {},
   "source": [
    "# Pyhton Class 1 "
   ]
  },
  {
   "cell_type": "markdown",
   "id": "6e8da36d",
   "metadata": {},
   "source": [
    "### Types of Values\n",
    "\n",
    "1) NUMBERS[\n",
    "        \n",
    "        => Whole Number (Integer)-> (int) \n",
    "        => Decimals (floats)--> (float)\n",
    "]\n",
    "\n",
    "2) ALPHABETS [\n",
    "\n",
    "        => \"Strings\" --> (str)\n",
    "]\n",
    "\n",
    "\n",
    "Read Discription of any Funtion( Click on Function and Tab \"Shift+Tab\" )\n",
    "Print():\n",
    "print(value, ..., sep=' ', end='\\n', file=sys.stdout, flush=False)\n",
    "Prints the values to a stream, or to sys.stdout by default.\n",
    "\n",
    "### Variables\n",
    "\n",
    "1) A variable name must start with a letter or the underscore character\n",
    "2) A variable name cannot start with a number\n",
    "3) A variable name can only contain alpha-numeric characters and underscores (A-z, 0-9, and _ )\n",
    "4) Variable names are case-sensitive (age, Age and AGE are three different variables)\n",
    "5) Variable Name should not be a reserve Word e.g --> print,for,String....\n",
    "\n",
    "==> Legal variable names:\n",
    "myvar = \"Noman\"\n",
    "my_var = \"Noman\"\n",
    "_my_var = \"Noman\"\n",
    "myVar = \"Noman\"\n",
    "MYVAR = \"Noman\"\n",
    "myvar2 = \"Noman\"\n",
    "\n",
    "==> Illegal variable names:\n",
    "2myvar = \"Noman\"\n",
    "my-var = \"Noman\"\n",
    "my var = \"Noman\"\n",
    "\n",
    "\n",
    "### Binary Operators\n",
    "1) Addition --> \"+\"\n",
    "2) Substraction --> \"-\"\n",
    "3) Multiplication --> \"*\"\n",
    "4) Divison --> \"/\"\n",
    "5) Modulus --> \"%\"\n",
    "\n",
    "If Variable use for multiple task called overload Operator.\n",
    "--> Addition Operator is overloaded Binary Operator.\n",
    "For Example:\n",
    "2+2 --> Addition\n",
    "Welcome + Python --> Concatenation \n",
    "\n",
    "\n",
    "--> Divion Single slash \"/\" Floating\n",
    "--> Division double slash \"//\" integer\n",
    "\n",
    "10/10 --> 1.0 \"Qoutient\"\n",
    "10//10 --> 1\n",
    "12%5 --> 2 \"Reminder\"\n",
    "\n",
    "\n",
    "### Boolean Operators\n",
    "\n",
    "1) Greater than  \">\"\n",
    "2) Less than     \"<\"\n",
    "3) Equal to      \"=\"\n",
    "4) Greater than or equal to   \">=\"\n",
    "4) Less than or equal to   \"<=\"\n",
    "\n",
    "\n",
    "### Logical Operators\n",
    "\n",
    "1) AND Operator\n",
    "2) OR Operator\n",
    "3) NOT Operator"
   ]
  },
  {
   "cell_type": "code",
   "execution_count": 41,
   "id": "b2e34bfe",
   "metadata": {},
   "outputs": [
    {
     "name": "stdout",
     "output_type": "stream",
     "text": [
      "<class 'str'>\n",
      "<class 'int'>\n",
      "<class 'float'>\n"
     ]
    }
   ],
   "source": [
    "name = \"Noman\"\n",
    "age = 22\n",
    "result = 79.23\n",
    "\n",
    "#We can find the Type of any variable using type() function.\n",
    "print(type(name))\n",
    "print(type(age))\n",
    "print(type(result))"
   ]
  },
  {
   "cell_type": "code",
   "execution_count": null,
   "id": "02c872bf",
   "metadata": {},
   "outputs": [],
   "source": []
  }
 ],
 "metadata": {
  "kernelspec": {
   "display_name": "Python 3 (ipykernel)",
   "language": "python",
   "name": "python3"
  },
  "language_info": {
   "codemirror_mode": {
    "name": "ipython",
    "version": 3
   },
   "file_extension": ".py",
   "mimetype": "text/x-python",
   "name": "python",
   "nbconvert_exporter": "python",
   "pygments_lexer": "ipython3",
   "version": "3.9.7"
  }
 },
 "nbformat": 4,
 "nbformat_minor": 5
}
