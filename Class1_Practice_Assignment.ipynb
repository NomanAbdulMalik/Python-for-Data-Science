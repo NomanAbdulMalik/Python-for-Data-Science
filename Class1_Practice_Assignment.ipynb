{
 "cells": [
  {
   "cell_type": "markdown",
   "metadata": {},
   "source": [
    "# Topic: print()"
   ]
  },
  {
   "cell_type": "markdown",
   "metadata": {},
   "source": [
    "1) Using the python print function print any string value, integer value, boolean value, float value in single print command"
   ]
  },
  {
   "cell_type": "code",
   "execution_count": 1,
   "metadata": {},
   "outputs": [
    {
     "name": "stdout",
     "output_type": "stream",
     "text": [
      "Noman 29 29.765 True False\n"
     ]
    }
   ],
   "source": [
    "print(\"Noman\",29,29.765,True,False)"
   ]
  },
  {
   "cell_type": "markdown",
   "metadata": {},
   "source": [
    "2) Using the python print function print hyphon(-) separated any string value, integer value, boolean value, float value in single print command"
   ]
  },
  {
   "cell_type": "code",
   "execution_count": 3,
   "metadata": {},
   "outputs": [
    {
     "name": "stdout",
     "output_type": "stream",
     "text": [
      "Noman\n",
      "29\n",
      "29.765\n",
      "True\n",
      "False\n"
     ]
    }
   ],
   "source": [
    "print(\"Noman\",29,29.765,True,False, sep=\"-\")"
   ]
  },
  {
   "cell_type": "markdown",
   "metadata": {},
   "source": [
    "3) Using the python print function print any string value, integer value, boolean value, float value in separate print command.\n",
    "But every value must be space separated and in single line "
   ]
  },
  {
   "cell_type": "code",
   "execution_count": 4,
   "metadata": {},
   "outputs": [
    {
     "name": "stdout",
     "output_type": "stream",
     "text": [
      "Noman\n",
      "29\n",
      "29.765\n",
      "True\n",
      "False\n"
     ]
    }
   ],
   "source": [
    "print(\"Noman\",29,29.765,True,False, sep=\"\\n\")"
   ]
  },
  {
   "cell_type": "markdown",
   "metadata": {},
   "source": [
    "4) Can a python print function take no value to print???"
   ]
  },
  {
   "cell_type": "code",
   "execution_count": 5,
   "metadata": {},
   "outputs": [
    {
     "name": "stdout",
     "output_type": "stream",
     "text": [
      "\n"
     ]
    }
   ],
   "source": [
    "#In pyhton Print function always to take value to print. without value it will no print.\n",
    "print()"
   ]
  },
  {
   "cell_type": "markdown",
   "metadata": {},
   "source": [
    "# TOPIC :Variables in Python Operators"
   ]
  },
  {
   "cell_type": "markdown",
   "metadata": {},
   "source": [
    "5) One of my friends name is Mr. Ahmed. He is 30 years old.  He is a lawer by profession. He has done his bachelors in law in the year 2005. He is working with a reputable law firm 'The Himalya Associates' in Karachi since 2015.\n",
    "He is a handsome lawer with height of 5.10 feets and weight 70600g. His monthly income is Rs. 200k PKR.\n",
    "\n",
    "Note: Create variables from above text and also assign values from the text.  "
   ]
  },
  {
   "cell_type": "code",
   "execution_count": 6,
   "metadata": {},
   "outputs": [
    {
     "name": "stdout",
     "output_type": "stream",
     "text": [
      "Mr.Ahmed\n",
      "30\n",
      "Lawyer\n",
      "2005\n",
      "The Himalya Associates\n",
      "2015\n",
      "5.1\n",
      "70600g\n",
      "200000\n"
     ]
    }
   ],
   "source": [
    "name = \"Mr.Ahmed\"\n",
    "age = 30\n",
    "profession = \"Lawyer\"\n",
    "year_of_bachelors = 2005\n",
    "firm_name = \"The Himalya Associates\"\n",
    "work_from = 2015\n",
    "height = 5.10\n",
    "weight = \"70600g\"\n",
    "monthly_income = 200000\n",
    "print(name,age,profession,year_of_bachelors,firm_name,work_from,height,weight,monthly_income,sep=\"\\n\")"
   ]
  },
  {
   "cell_type": "markdown",
   "metadata": {},
   "source": [
    "6)How many years has been to Mr. Ahmed after his bachelors degree? Create a variable that hold current year value and then subtract it from his passout year"
   ]
  },
  {
   "cell_type": "code",
   "execution_count": 8,
   "metadata": {},
   "outputs": [
    {
     "name": "stdout",
     "output_type": "stream",
     "text": [
      "Total years in passout:  7\n"
     ]
    }
   ],
   "source": [
    "year_of_bachelor= 2015\n",
    "current_year=2022\n",
    "years= current_year-year_of_bachelor\n",
    "print(\"Total years in passout: \",years)"
   ]
  },
  {
   "cell_type": "markdown",
   "metadata": {},
   "source": [
    "7) How many years has Mr. Ahmed been working with law firm 'The Himalya Associates'. Create necesary variables and print the correct number of years in working in the firm"
   ]
  },
  {
   "cell_type": "code",
   "execution_count": 9,
   "metadata": {},
   "outputs": [
    {
     "name": "stdout",
     "output_type": "stream",
     "text": [
      "His total year of working in the 'The Himalya Associates':  7\n"
     ]
    }
   ],
   "source": [
    "joining_year = 2015\n",
    "current_year = 2022\n",
    "total_year=current_year-joining_year\n",
    "print(\"His total year of working in the 'The Himalya Associates': \",total_year)"
   ]
  },
  {
   "cell_type": "markdown",
   "metadata": {},
   "source": [
    "8)Convert the monthly income of Mr. Ahmed in dollars.  Create necesary variables and print the income in dollars."
   ]
  },
  {
   "cell_type": "code",
   "execution_count": 13,
   "metadata": {},
   "outputs": [
    {
     "name": "stdout",
     "output_type": "stream",
     "text": [
      "Enter Salary in PKR: 200000\n",
      "Your Salary in Dollar is:  $ 42172000.0\n"
     ]
    }
   ],
   "source": [
    "salary_in_pkr = int(input(\"Enter Salary in PKR: \"))\n",
    "salary_in_dollar= salary_in_pkr*210.86\n",
    "print(\"Your Salary in Dollar is: \",\"$\",salary_in_dollar,)"
   ]
  },
  {
   "cell_type": "markdown",
   "metadata": {},
   "source": [
    "9) Check if the income in dollars is a float or integer value. if it is float, re-write the code so that income gets converted in integer. print the income in integer type value"
   ]
  },
  {
   "cell_type": "code",
   "execution_count": 14,
   "metadata": {},
   "outputs": [
    {
     "name": "stdout",
     "output_type": "stream",
     "text": [
      "Enter salary in float: 22.82122328\n",
      "Salary in Integer is:  22\n"
     ]
    }
   ],
   "source": [
    "salary_in_float = float(input(\"Enter salary in float: \"))\n",
    "convert_in_integer = int(salary_in_float)\n",
    "print(\"Salary in Integer is: \", convert_in_integer)"
   ]
  },
  {
   "cell_type": "raw",
   "metadata": {},
   "source": [
    "10) Print the type of Mr. Ahmed's weight. Convert the weight of Mr. Ahmed in kg so that weight must be a integer value. "
   ]
  },
  {
   "cell_type": "code",
   "execution_count": 18,
   "metadata": {},
   "outputs": [
    {
     "name": "stdout",
     "output_type": "stream",
     "text": [
      "Enter weight in gram: 70600\n",
      "Weight in Kg:  70 kg\n"
     ]
    }
   ],
   "source": [
    "weight_in_gram = int(input(\"Enter weight in gram: \"))\n",
    "weight_in_kg = weight_in_gram/1000\n",
    "total_weight = int(weight_in_kg)\n",
    "print(\"Weight in Kg: \",total_weight,\"kg\")"
   ]
  },
  {
   "cell_type": "raw",
   "metadata": {},
   "source": [
    "11) print the year of birth of Mr. Ahmed."
   ]
  },
  {
   "cell_type": "code",
   "execution_count": 22,
   "metadata": {},
   "outputs": [
    {
     "name": "stdout",
     "output_type": "stream",
     "text": [
      "Enter your current age: 37\n",
      "From now your year of birth is:  1985\n"
     ]
    }
   ],
   "source": [
    "current_age = int(input(\"Enter your current age: \"))\n",
    "year_of_birth = 2022-current_age\n",
    "print(\"From now your year of birth is: \",year_of_birth)"
   ]
  },
  {
   "cell_type": "markdown",
   "metadata": {},
   "source": [
    "12) Can Rs. 100 be divided equally among 6 students? \n",
    "HINT: % operator"
   ]
  },
  {
   "cell_type": "code",
   "execution_count": 21,
   "metadata": {},
   "outputs": [
    {
     "name": "stdout",
     "output_type": "stream",
     "text": [
      "4\n"
     ]
    }
   ],
   "source": [
    "a = 100\n",
    "b=6\n",
    "c = a%b\n",
    "print(c)\n",
    "\n",
    "\n",
    "#No we cannot divide equally"
   ]
  },
  {
   "cell_type": "code",
   "execution_count": null,
   "metadata": {},
   "outputs": [],
   "source": []
  }
 ],
 "metadata": {
  "kernelspec": {
   "display_name": "Python 3 (ipykernel)",
   "language": "python",
   "name": "python3"
  },
  "language_info": {
   "codemirror_mode": {
    "name": "ipython",
    "version": 3
   },
   "file_extension": ".py",
   "mimetype": "text/x-python",
   "name": "python",
   "nbconvert_exporter": "python",
   "pygments_lexer": "ipython3",
   "version": "3.9.7"
  }
 },
 "nbformat": 4,
 "nbformat_minor": 2
}
